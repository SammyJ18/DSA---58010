{
  "nbformat": 4,
  "nbformat_minor": 0,
  "metadata": {
    "colab": {
      "provenance": [],
      "authorship_tag": "ABX9TyPpCq9aR5sNZwZui+Vmfz3x",
      "include_colab_link": true
    },
    "kernelspec": {
      "name": "python3",
      "display_name": "Python 3"
    },
    "language_info": {
      "name": "python"
    }
  },
  "cells": [
    {
      "cell_type": "markdown",
      "metadata": {
        "id": "view-in-github",
        "colab_type": "text"
      },
      "source": [
        "<a href=\"https://colab.research.google.com/github/SammyJ18/DSA---58010/blob/main/Laboratory_6.ipynb\" target=\"_parent\"><img src=\"https://colab.research.google.com/assets/colab-badge.svg\" alt=\"Open In Colab\"/></a>"
      ]
    },
    {
      "cell_type": "code",
      "source": [
        "class Node(object):\n",
        "    def __init__(self, data=None, next=None, prev=None):\n",
        "        self.data = data\n",
        "        self.next = next\n",
        "        self.prev = prev\n",
        "\n",
        "class doubly_linked_list(object):\n",
        "    def __init__(self):\n",
        "        self.head = None\n",
        "        self.tail = None\n",
        "        self.count = 0\n",
        "\n",
        "    def append_item(self, data):\n",
        "        new_item = Node(data, None, None)\n",
        "        if self.head is None:\n",
        "            self.head = new_item\n",
        "            self.tail = self.head\n",
        "        else:\n",
        "            new_item.prev = self.tail\n",
        "            self.tail.next = new_item\n",
        "            self.tail = new_item\n",
        "\n",
        "        self.count += 1\n",
        "\n",
        "    def print_foward(self):\n",
        "        for node in self.iter():\n",
        "            print(node)\n",
        "\n",
        "    def iter(self):\n",
        "        current = self.head\n",
        "        while current:\n",
        "            item_val = current.data\n",
        "            current = current.next\n",
        "            yield item_val\n",
        "\n",
        "items = doubly_linked_list()\n",
        "items.append_item('a')\n",
        "items.append_item('b')\n",
        "items.append_item('c')\n",
        "items.append_item('d')\n",
        "items.append_item('e')\n",
        "\n",
        "print(\"Items in the Doubly linked list: \")\n",
        "items.print_foward()\n",
        "print(\"Number of items of the  Doubly linked list:\",items.count)\n",
        "print(\"Reversed linked list: \")"
      ],
      "metadata": {
        "colab": {
          "base_uri": "https://localhost:8080/"
        },
        "id": "5qE4PYEO0xRv",
        "outputId": "ad72212e-ae30-4110-992a-7bfe07a880ca"
      },
      "execution_count": 40,
      "outputs": [
        {
          "output_type": "stream",
          "name": "stdout",
          "text": [
            "Items in the Doubly linked list: \n",
            "a\n",
            "b\n",
            "c\n",
            "d\n",
            "e\n",
            "Number of items of the  Doubly linked list: 5\n",
            "Reversed linked list: \n"
          ]
        }
      ]
    }
  ]
}