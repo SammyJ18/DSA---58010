{
  "nbformat": 4,
  "nbformat_minor": 0,
  "metadata": {
    "colab": {
      "provenance": [],
      "authorship_tag": "ABX9TyOiIQAokISQ4m+9mmCWGtf5",
      "include_colab_link": true
    },
    "kernelspec": {
      "name": "python3",
      "display_name": "Python 3"
    },
    "language_info": {
      "name": "python"
    }
  },
  "cells": [
    {
      "cell_type": "markdown",
      "metadata": {
        "id": "view-in-github",
        "colab_type": "text"
      },
      "source": [
        "<a href=\"https://colab.research.google.com/github/SammyJ18/DSA---58010/blob/main/Lab_Report_6.ipynb\" target=\"_parent\"><img src=\"https://colab.research.google.com/assets/colab-badge.svg\" alt=\"Open In Colab\"/></a>"
      ]
    },
    {
      "cell_type": "markdown",
      "source": [
        "## **#1**"
      ],
      "metadata": {
        "id": "i7fFED3Flaiz"
      }
    },
    {
      "cell_type": "code",
      "source": [
        "def move_to_front(lst, sequence):\n",
        "    for item in sequence:\n",
        "        if item in lst:\n",
        "            lst.remove(item)\n",
        "            lst.insert(0, item)\n",
        "    return lst\n",
        "\n",
        "initial_list = ['a', 'b', 'c', 'd', 'e', 'f']\n",
        "access_sequence = ['a', 'b', 'c', 'd', 'e', 'f', 'a', 'c', 'f', 'b', 'd', 'e']\n",
        "\n",
        "final_state = move_to_front(initial_list, access_sequence)\n",
        "print(\"Final state of the list:\", final_state)"
      ],
      "metadata": {
        "colab": {
          "base_uri": "https://localhost:8080/"
        },
        "id": "gvj4_iZLlNYz",
        "outputId": "2e5c263b-41e1-4b0e-9652-5ac536f659d1"
      },
      "execution_count": 26,
      "outputs": [
        {
          "output_type": "stream",
          "name": "stdout",
          "text": [
            "Final state of the list: ['e', 'd', 'b', 'f', 'c', 'a']\n"
          ]
        }
      ]
    },
    {
      "cell_type": "markdown",
      "source": [
        "## **#2**"
      ],
      "metadata": {
        "id": "c0NZwmjslKK6"
      }
    },
    {
      "cell_type": "code",
      "source": [
        "class Node(object):\n",
        "    def __init__(self, data=None, next=None, prev=None):\n",
        "        self.data = data\n",
        "        self.next = next\n",
        "        self.prev = prev\n",
        "\n",
        "class DoublyLinkedList(object):\n",
        "    def __init__(self):\n",
        "        self.head = None\n",
        "        self.tail = None\n",
        "        self.count = 0\n",
        "\n",
        "    def append_item(self, data):\n",
        "        new_item = Node(data, None, None)\n",
        "        if self.head is None:\n",
        "            self.head = new_item\n",
        "            self.tail = self.head\n",
        "        else:\n",
        "            new_item.prev = self.tail\n",
        "            self.tail.next = new_item\n",
        "            self.tail = new_item\n",
        "\n",
        "        self.count += 1\n",
        "\n",
        "    def print_forward(self):\n",
        "        for node in self.iter():\n",
        "            print(node)\n",
        "\n",
        "    def iter(self):\n",
        "        current = self.head\n",
        "        while current:\n",
        "            item_val = current.data\n",
        "            current = current.next\n",
        "            yield item_val\n",
        "\n",
        "    def reverse_list(self):\n",
        "        current = self.tail\n",
        "        while current:\n",
        "            yield current.data\n",
        "            current = current.prev\n",
        "\n",
        "items = DoublyLinkedList()\n",
        "items.append_item('a')\n",
        "items.append_item('b')\n",
        "items.append_item('c')\n",
        "items.append_item('d')\n",
        "items.append_item('e')\n",
        "\n",
        "print(\"Items in the Doubly linked list:\")\n",
        "items.print_forward()\n",
        "print(\"\\nNumber of items in the Doubly linked list:\", items.count)\n",
        "\n",
        "print(\"\\nReversed Doubly linked list:\")\n",
        "for node in items.reverse_list():\n",
        "    print(node)"
      ],
      "metadata": {
        "colab": {
          "base_uri": "https://localhost:8080/"
        },
        "id": "Th6oVrprkSy7",
        "outputId": "0a480055-129b-4e45-addc-4fa2903517cd"
      },
      "execution_count": 27,
      "outputs": [
        {
          "output_type": "stream",
          "name": "stdout",
          "text": [
            "Items in the Doubly linked list:\n",
            "a\n",
            "b\n",
            "c\n",
            "d\n",
            "e\n",
            "\n",
            "Number of items in the Doubly linked list: 5\n",
            "\n",
            "Reversed Doubly linked list:\n",
            "e\n",
            "d\n",
            "c\n",
            "b\n",
            "a\n"
          ]
        }
      ]
    }
  ]
}