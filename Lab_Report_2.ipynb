{
  "nbformat": 4,
  "nbformat_minor": 0,
  "metadata": {
    "colab": {
      "provenance": []
    },
    "kernelspec": {
      "name": "python3",
      "display_name": "Python 3"
    },
    "language_info": {
      "name": "python"
    }
  },
  "cells": [
    {
      "cell_type": "code",
      "source": [
        "def find_min_max(sequence, index=0, min_val=None, max_val=None):\n",
        "    if index < len(sequence):\n",
        "        current_value = sequence[index]\n",
        "        if min_val is None or current_value < min_val:\n",
        "            min_val = current_value\n",
        "        if max_val is None or current_value > max_val:\n",
        "            max_val = current_value\n",
        "        return find_min_max(sequence, index + 1, min_val, max_val)\n",
        "    else:\n",
        "        return min_val, max_val\n",
        "\n",
        "sequence = [3, 1, 4, 1, 5, 9, 2, 6, 5, 3, 5]\n",
        "min_value, max_value = find_min_max(sequence)\n",
        "print(\"Minimum value:\", min_value)\n",
        "print(\"Maximum value:\", max_value)"
      ],
      "metadata": {
        "colab": {
          "base_uri": "https://localhost:8080/"
        },
        "id": "W6QieVm1Ro0p",
        "outputId": "228286c4-2c94-4cca-962e-f33f2b47a2be"
      },
      "execution_count": 16,
      "outputs": [
        {
          "output_type": "stream",
          "name": "stdout",
          "text": [
            "Minimum value: 1\n",
            "Maximum value: 9\n"
          ]
        }
      ]
    }
  ]
}