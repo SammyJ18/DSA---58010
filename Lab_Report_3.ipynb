{
  "nbformat": 4,
  "nbformat_minor": 0,
  "metadata": {
    "colab": {
      "provenance": []
    },
    "kernelspec": {
      "name": "python3",
      "display_name": "Python 3"
    },
    "language_info": {
      "name": "python"
    }
  },
  "cells": [
    {
      "cell_type": "code",
      "execution_count": 1,
      "metadata": {
        "colab": {
          "base_uri": "https://localhost:8080/"
        },
        "id": "eCJNnyVxmsLd",
        "outputId": "0bdd3dd9-335d-40e9-eaca-09a3b322eb1b"
      },
      "outputs": [
        {
          "output_type": "stream",
          "name": "stdout",
          "text": [
            "Sum of even test scores: 186\n"
          ]
        }
      ],
      "source": [
        "test_scores = [26, 49, 98, 87, 62, 75]\n",
        "\n",
        "sum_even_scores = 0\n",
        "\n",
        "for score in test_scores:\n",
        "    if score % 2 == 0:\n",
        "        sum_even_scores += score\n",
        "\n",
        "print(\"Sum of even test scores:\", sum_even_scores)\n"
      ]
    }
  ]
}