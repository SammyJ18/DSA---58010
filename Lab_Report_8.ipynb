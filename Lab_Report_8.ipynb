{
  "nbformat": 4,
  "nbformat_minor": 0,
  "metadata": {
    "colab": {
      "provenance": []
    },
    "kernelspec": {
      "name": "python3",
      "display_name": "Python 3"
    },
    "language_info": {
      "name": "python"
    }
  },
  "cells": [
    {
      "cell_type": "code",
      "source": [
        "def create_queue():\n",
        "    queue = []\n",
        "    return queue\n",
        "6\n",
        "def is_empty(queue):\n",
        "    return len(queue) == 0\n",
        "\n",
        "def enqueue(queue, item):\n",
        "    queue.append(item)\n",
        "    print(\"Enqueued Element:\", item)\n",
        "\n",
        "def dequeue(queue):\n",
        "    if is_empty(queue):\n",
        "        return \"The queue is empty\"\n",
        "    return queue.pop(0)\n",
        "\n",
        "queue = create_queue()\n",
        "\n",
        "num_elements = int(input(\"Enter the number of elements to enqueue: \"))\n",
        "for _ in range(num_elements):\n",
        "    element = input(\"Enter element: \")\n",
        "    enqueue(queue, element)\n",
        "\n",
        "print(\"The elements in the queue are:\", queue)\n",
        "print(\"Dequeued Element:\", dequeue(queue))\n",
        "print(\"Dequeued Element:\", dequeue(queue))\n",
        "print(\"The remaining elements in the queue are:\", queue)\n"
      ],
      "metadata": {
        "colab": {
          "base_uri": "https://localhost:8080/"
        },
        "id": "B5Wyr0FemkIs",
        "outputId": "5864d491-7762-4b4c-fb52-199941996d9c"
      },
      "execution_count": 5,
      "outputs": [
        {
          "output_type": "stream",
          "name": "stdout",
          "text": [
            "Enter the number of elements to enqueue: 5\n",
            "Enter element: 9\n",
            "Enqueued Element: 9\n",
            "Enter element: 8\n",
            "Enqueued Element: 8\n",
            "Enter element: 7\n",
            "Enqueued Element: 7\n",
            "Enter element: 6\n",
            "Enqueued Element: 6\n",
            "Enter element: 5\n",
            "Enqueued Element: 5\n",
            "The elements in the queue are: ['9', '8', '7', '6', '5']\n",
            "Dequeued Element: 9\n",
            "Dequeued Element: 8\n",
            "The remaining elements in the queue are: ['7', '6', '5']\n"
          ]
        }
      ]
    }
  ]
}