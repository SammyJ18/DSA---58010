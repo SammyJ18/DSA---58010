{
  "nbformat": 4,
  "nbformat_minor": 0,
  "metadata": {
    "colab": {
      "provenance": []
    },
    "kernelspec": {
      "name": "python3",
      "display_name": "Python 3"
    },
    "language_info": {
      "name": "python"
    }
  },
  "cells": [
    {
      "cell_type": "code",
      "source": [
        "import math\n",
        "\n",
        "class Polygons:\n",
        "    def __init__(self):\n",
        "        self.name = input(\"Enter the name of the polygon: \")\n",
        "        self.sides = int(input(\"Enter the number of sides: \"))\n",
        "        self.side_length = float(input(\"Enter the length of one side: \"))\n",
        "        self.calculate_area()\n",
        "\n",
        "    def set_name(self, name):\n",
        "        self.name = name\n",
        "\n",
        "    def set_sides(self, sides):\n",
        "        self.sides = sides\n",
        "        self.calculate_area()\n",
        "\n",
        "    def set_side_length(self, side_length):\n",
        "        self.side_length = side_length\n",
        "        self.calculate_area()\n",
        "\n",
        "    def calculate_area(self):\n",
        "        if self.sides < 3:\n",
        "            self.area = 0\n",
        "        else:\n",
        "            self.area = (self.sides * self.side_length ** 2) / (4 * math.tan(math.pi / self.sides))\n",
        "\n",
        "    def get_name(self):\n",
        "        return self.name\n",
        "\n",
        "    def get_sides(self):\n",
        "        return self.sides\n",
        "\n",
        "    def get_side_length(self):\n",
        "        return self.side_length\n",
        "\n",
        "    def get_area(self):\n",
        "        return self.area\n",
        "\n",
        "polygon = Polygons()\n",
        "print(\"Polygon Name:\", polygon.get_name())\n",
        "print(\"Number of Sides:\", polygon.get_sides())\n",
        "print(\"Side Length:\", polygon.get_side_length())\n",
        "print(\"Area:\", polygon.get_area())"
      ],
      "metadata": {
        "colab": {
          "base_uri": "https://localhost:8080/"
        },
        "id": "W6QieVm1Ro0p",
        "outputId": "f47524aa-4265-494a-d0c1-08f81d1ad087"
      },
      "execution_count": 13,
      "outputs": [
        {
          "output_type": "stream",
          "name": "stdout",
          "text": [
            "Enter the name of the polygon: OCTAGON\n",
            "Enter the number of sides: 8\n",
            "Enter the length of one side: 6\n",
            "Polygon Name: OCTAGON\n",
            "Number of Sides: 8\n",
            "Side Length: 6.0\n",
            "Area: 173.82337649086284\n"
          ]
        }
      ]
    }
  ]
}