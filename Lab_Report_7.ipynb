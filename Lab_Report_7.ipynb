{
  "nbformat": 4,
  "nbformat_minor": 0,
  "metadata": {
    "colab": {
      "provenance": [],
      "authorship_tag": "ABX9TyPBzOCeAOuzB5UYdri60g/J",
      "include_colab_link": true
    },
    "kernelspec": {
      "name": "python3",
      "display_name": "Python 3"
    },
    "language_info": {
      "name": "python"
    }
  },
  "cells": [
    {
      "cell_type": "markdown",
      "metadata": {
        "id": "view-in-github",
        "colab_type": "text"
      },
      "source": [
        "<a href=\"https://colab.research.google.com/github/SammyJ18/DSA---58010/blob/main/Lab_Report_7.ipynb\" target=\"_parent\"><img src=\"https://colab.research.google.com/assets/colab-badge.svg\" alt=\"Open In Colab\"/></a>"
      ]
    },
    {
      "cell_type": "code",
      "source": [
        "class Node:\n",
        "    def __init__(self, data):\n",
        "        self.data = data\n",
        "        self.next = None\n",
        "\n",
        "class LinkedList:\n",
        "    def __init__(self):\n",
        "        self.head = None\n",
        "        self.tail = None\n",
        "\n",
        "    def append(self, data):\n",
        "        new_node = Node(data)\n",
        "        if self.head is None:\n",
        "            self.head = new_node\n",
        "            self.tail = new_node\n",
        "        else:\n",
        "            self.tail.next = new_node\n",
        "            self.tail = new_node\n",
        "\n",
        "def isPrime(n):\n",
        "    if n < 2:\n",
        "        return False\n",
        "    for i in range(2, int(n**0.5) + 1):\n",
        "        if n % i == 0:\n",
        "            return False\n",
        "    return True\n",
        "\n",
        "def getFirstPrimes(n):\n",
        "    primes_list = LinkedList()\n",
        "    num = 2\n",
        "    while n > 0:\n",
        "        if isPrime(num):\n",
        "            primes_list.append(num)\n",
        "            n -= 1\n",
        "        num += 1\n",
        "    return primes_list\n",
        "\n",
        "def printLinkedList(linked_list):\n",
        "    current = linked_list.head\n",
        "    while current:\n",
        "        print(current.data, end= ', ')\n",
        "        current = current.next\n",
        "\n",
        "primes = getFirstPrimes(8)\n",
        "print('Prime Numbers from 1 - 20: '), printLinkedList(primes)\n",
        "print('\\nHead:', primes.head.data)\n",
        "print('Tail:', primes.tail.data)"
      ],
      "metadata": {
        "colab": {
          "base_uri": "https://localhost:8080/"
        },
        "id": "_HUohB0Pmo5j",
        "outputId": "1df458cb-3e22-488e-f566-cce84fa3cf75"
      },
      "execution_count": 19,
      "outputs": [
        {
          "output_type": "stream",
          "name": "stdout",
          "text": [
            "Prime Numbers from 1 - 20: \n",
            "2, 3, 5, 7, 11, 13, 17, 19, \n",
            "Head: 2\n",
            "Tail: 19\n"
          ]
        }
      ]
    }
  ]
}