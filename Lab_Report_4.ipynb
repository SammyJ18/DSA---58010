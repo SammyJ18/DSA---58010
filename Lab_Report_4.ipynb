{
  "nbformat": 4,
  "nbformat_minor": 0,
  "metadata": {
    "colab": {
      "provenance": []
    },
    "kernelspec": {
      "name": "python3",
      "display_name": "Python 3"
    },
    "language_info": {
      "name": "python"
    }
  },
  "cells": [
    {
      "cell_type": "code",
      "execution_count": 7,
      "metadata": {
        "colab": {
          "base_uri": "https://localhost:8080/"
        },
        "id": "eCJNnyVxmsLd",
        "outputId": "6cf80601-9f32-4edf-ce15-3c38b67c2292"
      },
      "outputs": [
        {
          "output_type": "stream",
          "name": "stdout",
          "text": [
            "The repeated element is: 3\n"
          ]
        }
      ],
      "source": [
        "def duplicate(nums):\n",
        "    slow = nums[0]\n",
        "    fast = nums[0]\n",
        "\n",
        "    while True:\n",
        "        slow = nums[slow]\n",
        "        fast = nums[nums[fast]]\n",
        "        if slow == fast:\n",
        "            break\n",
        "\n",
        "    slow = nums[0]\n",
        "    while slow != fast:\n",
        "        slow = nums[slow]\n",
        "        fast = nums[fast]\n",
        "\n",
        "    return slow\n",
        "\n",
        "A = [3, 8, 1, 4, 2, 5, 3, 7, 3]\n",
        "result = duplicate(A)\n",
        "print(f\"The repeated element is: {result}\")\n"
      ]
    },
    {
      "cell_type": "code",
      "source": [
        "def caesar_cipher(message, shift):\n",
        "    alphabet = 'abcdefghijklmnopqrstuvwxyz'\n",
        "    translation_table = str.maketrans(\n",
        "        alphabet + alphabet.upper(),\n",
        "        alphabet[shift:] +\n",
        "        alphabet[:shift] +\n",
        "        alphabet.upper()[shift:] +\n",
        "        alphabet.upper()[:shift]\n",
        "        )\n",
        "\n",
        "    return message.translate(translation_table)\n",
        "\n",
        "original_message = \"Hi, we are GHARL!\"\n",
        "shift_value = 3\n",
        "ciphered_message = caesar_cipher(original_message, shift_value)\n",
        "print(f\"Original message: {original_message}\")\n",
        "print(f\"Ciphered message: {ciphered_message}\")\n"
      ],
      "metadata": {
        "colab": {
          "base_uri": "https://localhost:8080/"
        },
        "id": "Ku60gAdytx9q",
        "outputId": "ec007b1b-397f-4e35-deb6-53cc6c061b96"
      },
      "execution_count": 12,
      "outputs": [
        {
          "output_type": "stream",
          "name": "stdout",
          "text": [
            "Original message: Hi, we are GHARL!\n",
            "Ciphered message: Kl, zh duh JKDUO!\n"
          ]
        }
      ]
    }
  ]
}