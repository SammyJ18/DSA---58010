{
  "nbformat": 4,
  "nbformat_minor": 0,
  "metadata": {
    "colab": {
      "provenance": [],
      "authorship_tag": "ABX9TyN08Zu7wvHraLXZo3wmosuq",
      "include_colab_link": true
    },
    "kernelspec": {
      "name": "python3",
      "display_name": "Python 3"
    },
    "language_info": {
      "name": "python"
    }
  },
  "cells": [
    {
      "cell_type": "markdown",
      "metadata": {
        "id": "view-in-github",
        "colab_type": "text"
      },
      "source": [
        "<a href=\"https://colab.research.google.com/github/SammyJ18/DSA---58010/blob/main/Lab_Report_10.ipynb\" target=\"_parent\"><img src=\"https://colab.research.google.com/assets/colab-badge.svg\" alt=\"Open In Colab\"/></a>"
      ]
    },
    {
      "cell_type": "code",
      "source": [
        "class BinaryTreeNode:\n",
        "    def __init__(self, value):\n",
        "        self.value = value\n",
        "        self.left = None\n",
        "        self.right = None\n",
        "\n",
        "def preOrderNumber(node):\n",
        "    if node is not None:\n",
        "        preOrderNumber(node.left)\n",
        "        preOrderNumber(node.right)\n",
        "        print(node.value, end=\" → \")\n",
        "\n",
        "def postOrderNumber(node):\n",
        "    if node is not None:\n",
        "        postOrderNumber(node.left)\n",
        "        postOrderNumber(node.right)\n",
        "        print(node.value, end=\" → \")\n",
        "\n",
        "def inOrderNumber(node):\n",
        "    if node is not None:\n",
        "        inOrderNumber(node.left)\n",
        "        inOrderNumber(node.right)\n",
        "        print(node.value, end=\" → \")\n",
        "\n",
        "if __name__ == \"__main__\":                            #Base form ng binary tree, same sa file\n",
        "    root = BinaryTreeNode(0)\n",
        "    root.left = BinaryTreeNode(1)\n",
        "    root.right = BinaryTreeNode(2)\n",
        "    root.left.left = BinaryTreeNode(3)\n",
        "    root.left.right = BinaryTreeNode(4)\n",
        "    root.right.left = BinaryTreeNode(5)\n",
        "    root.right.right = BinaryTreeNode(6)\n",
        "    root.left.right.left = BinaryTreeNode(7)\n",
        "    root.left.right.right = BinaryTreeNode(8)\n",
        "    root.right.left.left = BinaryTreeNode(9)\n",
        "    root.right.right.left = BinaryTreeNode(10)\n",
        "    root.right.right.right = BinaryTreeNode(11)\n",
        "\n",
        "    print(\"Pre-order Traversal:\")\n",
        "    preOrderNumber(root)\n",
        "\n",
        "    print(\"\\n\\nPost-order Traversal:\")\n",
        "    postOrderNumber(root)\n",
        "\n",
        "    print(\"\\n\\nIn-order Traversal:\")\n",
        "    inOrderNumber(root)"
      ],
      "metadata": {
        "colab": {
          "base_uri": "https://localhost:8080/"
        },
        "id": "ZCrU25pN9HKu",
        "outputId": "587aeccc-2901-4a50-f52a-513195615417"
      },
      "execution_count": 21,
      "outputs": [
        {
          "output_type": "stream",
          "name": "stdout",
          "text": [
            "Pre-order Traversal:\n",
            "3 → 7 → 8 → 4 → 1 → 9 → 5 → 10 → 11 → 6 → 2 → 0 → \n",
            "\n",
            "Post-order Traversal:\n",
            "3 → 7 → 8 → 4 → 1 → 9 → 5 → 10 → 11 → 6 → 2 → 0 → \n",
            "\n",
            "In-order Traversal:\n",
            "3 → 7 → 8 → 4 → 1 → 9 → 5 → 10 → 11 → 6 → 2 → 0 → "
          ]
        }
      ]
    }
  ]
}