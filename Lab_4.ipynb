{
  "nbformat": 4,
  "nbformat_minor": 0,
  "metadata": {
    "colab": {
      "provenance": [],
      "authorship_tag": "ABX9TyMShd2APX5zICY6MKdExiCI",
      "include_colab_link": true
    },
    "kernelspec": {
      "name": "python3",
      "display_name": "Python 3"
    },
    "language_info": {
      "name": "python"
    }
  },
  "cells": [
    {
      "cell_type": "markdown",
      "metadata": {
        "id": "view-in-github",
        "colab_type": "text"
      },
      "source": [
        "<a href=\"https://colab.research.google.com/github/SammyJ18/DSA---58010/blob/main/Lab_4.ipynb\" target=\"_parent\"><img src=\"https://colab.research.google.com/assets/colab-badge.svg\" alt=\"Open In Colab\"/></a>"
      ]
    },
    {
      "cell_type": "code",
      "execution_count": 1,
      "metadata": {
        "colab": {
          "base_uri": "https://localhost:8080/"
        },
        "id": "9QZBRTdrQqvf",
        "outputId": "6218eceb-78cd-4382-aee1-fdb6e1e5b16d"
      },
      "outputs": [
        {
          "output_type": "stream",
          "name": "stdout",
          "text": [
            "The repeated element is: 3\n"
          ]
        }
      ],
      "source": [
        "def duplicate(nums):\n",
        "  slow = nums[0]\n",
        "  fast = nums[0]\n",
        "\n",
        "  while True:\n",
        "      slow = nums[slow]\n",
        "      fast = nums[nums[fast]]\n",
        "      if slow == fast:\n",
        "        break\n",
        "\n",
        "  slow = nums[0]\n",
        "  while slow != fast:\n",
        "      slow = nums[slow]\n",
        "      fast = nums[fast]\n",
        "\n",
        "  return slow\n",
        "\n",
        "A = [3, 8, 1, 4, 2, 5, 3, 7, 3]\n",
        "result = duplicate(A)\n",
        "print(f\"The repeated element is: {result}\")"
      ]
    }
  ]
}