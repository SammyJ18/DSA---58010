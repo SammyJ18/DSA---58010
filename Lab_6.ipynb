{
  "nbformat": 4,
  "nbformat_minor": 0,
  "metadata": {
    "colab": {
      "provenance": [],
      "authorship_tag": "ABX9TyMMeUoU39a0wsfFJMI5MEh3",
      "include_colab_link": true
    },
    "kernelspec": {
      "name": "python3",
      "display_name": "Python 3"
    },
    "language_info": {
      "name": "python"
    }
  },
  "cells": [
    {
      "cell_type": "markdown",
      "metadata": {
        "id": "view-in-github",
        "colab_type": "text"
      },
      "source": [
        "<a href=\"https://colab.research.google.com/github/SammyJ18/DSA---58010/blob/main/Lab_6.ipynb\" target=\"_parent\"><img src=\"https://colab.research.google.com/assets/colab-badge.svg\" alt=\"Open In Colab\"/></a>"
      ]
    },
    {
      "cell_type": "code",
      "execution_count": 11,
      "metadata": {
        "colab": {
          "base_uri": "https://localhost:8080/"
        },
        "id": "qAmnNKXg2o7Y",
        "outputId": "364e0e88-c642-40cd-ecf9-17daf08da70e"
      },
      "outputs": [
        {
          "output_type": "stream",
          "name": "stdout",
          "text": [
            "Final state of the list: ['e', 'd', 'b', 'f', 'c', 'a']\n"
          ]
        }
      ],
      "source": [
        "def move_to_front(lst, sequence):\n",
        "    for item in sequence:\n",
        "        if item in lst:\n",
        "            lst.remove(item)\n",
        "            lst.insert(0, item)\n",
        "    return lst\n",
        "\n",
        "# Initial list\n",
        "initial_list = ['a', 'b', 'c', 'd', 'e', 'f']\n",
        "access_sequence = ['a', 'b', 'c', 'd', 'e', 'f', 'a', 'c', 'f', 'b', 'd', 'e']\n",
        "\n",
        "final_state = move_to_front(initial_list, access_sequence)\n",
        "print(\"Final state of the list:\", final_state)\n"
      ]
    }
  ]
}